{
 "cells": [
  {
   "cell_type": "code",
   "execution_count": 4,
   "id": "bd82f674",
   "metadata": {},
   "outputs": [],
   "source": [
    "import sys\n",
    "sys.path.append('../src/')\n",
    "\n",
    "\n",
    "\n",
    "from network import Network\n",
    "import mnist_loader\n",
    "\n",
    "training_data, validation_data, test_data = mnist_loader.load_data_wrapper()\n",
    "\n",
    "net = Network([784, 30, 10])"
   ]
  },
  {
   "cell_type": "code",
   "execution_count": 5,
   "id": "12a46ead",
   "metadata": {},
   "outputs": [
    {
     "name": "stdout",
     "output_type": "stream",
     "text": [
      "Epoch 0 : 8187 / 10000\n",
      "Epoch 1 : 8299 / 10000\n",
      "Epoch 2 : 8352 / 10000\n",
      "Epoch 3 : 8391 / 10000\n",
      "Epoch 4 : 8418 / 10000\n",
      "Epoch 5 : 8403 / 10000\n",
      "Epoch 6 : 8445 / 10000\n",
      "Epoch 7 : 8462 / 10000\n",
      "Epoch 8 : 8446 / 10000\n",
      "Epoch 9 : 8461 / 10000\n",
      "Epoch 10 : 8468 / 10000\n",
      "Epoch 11 : 8487 / 10000\n",
      "Epoch 12 : 8479 / 10000\n",
      "Epoch 13 : 8482 / 10000\n",
      "Epoch 14 : 8497 / 10000\n",
      "Epoch 15 : 8497 / 10000\n",
      "Epoch 16 : 8525 / 10000\n",
      "Epoch 17 : 8501 / 10000\n",
      "Epoch 18 : 8506 / 10000\n",
      "Epoch 19 : 8496 / 10000\n",
      "Epoch 20 : 8521 / 10000\n",
      "Epoch 21 : 8507 / 10000\n",
      "Epoch 22 : 8551 / 10000\n",
      "Epoch 23 : 8581 / 10000\n",
      "Epoch 24 : 9416 / 10000\n",
      "Epoch 25 : 9433 / 10000\n",
      "Epoch 26 : 9429 / 10000\n",
      "Epoch 27 : 9435 / 10000\n",
      "Epoch 28 : 9420 / 10000\n",
      "Epoch 29 : 9452 / 10000\n"
     ]
    }
   ],
   "source": [
    "net.SGD(training_data, 30, 10, 3.0, test_data=test_data)"
   ]
  },
  {
   "cell_type": "code",
   "execution_count": null,
   "id": "20646d75",
   "metadata": {},
   "outputs": [],
   "source": []
  }
 ],
 "metadata": {
  "kernelspec": {
   "display_name": "Python 3 (ipykernel)",
   "language": "python",
   "name": "python3"
  },
  "language_info": {
   "codemirror_mode": {
    "name": "ipython",
    "version": 3
   },
   "file_extension": ".py",
   "mimetype": "text/x-python",
   "name": "python",
   "nbconvert_exporter": "python",
   "pygments_lexer": "ipython3",
   "version": "3.9.10"
  }
 },
 "nbformat": 4,
 "nbformat_minor": 5
}
